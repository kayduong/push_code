{
 "cells": [
  {
   "cell_type": "code",
   "execution_count": 11,
   "id": "5bcaab0b",
   "metadata": {},
   "outputs": [
    {
     "name": "stdout",
     "output_type": "stream",
     "text": [
      "Mean Squared Error: 15.35\n",
      "R-squared: 0.14\n",
      "\n",
      "Predictions for future years:\n",
      "Sample 1: Predicted number of hours spent: 14.80\n",
      "Sample 2: Predicted number of hours spent: 16.00\n",
      "Sample 3: Predicted number of hours spent: 12.20\n"
     ]
    }
   ],
   "source": [
    "import pandas as pd\n",
    "from sklearn.neighbors import KNeighborsRegressor\n",
    "from sklearn.model_selection import train_test_split\n",
    "from sklearn.preprocessing import LabelEncoder\n",
    "from sklearn.metrics import mean_squared_error, r2_score\n",
    "\n",
    "# Load the dataset\n",
    "data = pd.read_csv('sentimentdataset.csv')\n",
    "\n",
    "# Drop unnecessary columns\n",
    "data = data.drop(['Unnamed: 0.1', 'Unnamed: 0'], axis=1)\n",
    "\n",
    "# Preprocess the data\n",
    "# Encode categorical variables\n",
    "label_encoder = LabelEncoder()\n",
    "data['Sentiment'] = label_encoder.fit_transform(data['Sentiment'])\n",
    "\n",
    "# Separate the feature (X) and target variable (y)\n",
    "X = data[['Sentiment']]\n",
    "y = data['Hour']  # Assuming 'Hour' represents the number of hours spent\n",
    "\n",
    "# Split the data into training and testing sets\n",
    "X_train, X_test, y_train, y_test = train_test_split(X, y, test_size=0.2, random_state=42)\n",
    "\n",
    "# Create a KNN Regressor\n",
    "knn_reg = KNeighborsRegressor(n_neighbors=5)\n",
    "\n",
    "# Train the model\n",
    "knn_reg.fit(X_train, y_train)\n",
    "\n",
    "# Make predictions on the test set\n",
    "y_pred = knn_reg.predict(X_test)\n",
    "\n",
    "# Evaluate the model's performance\n",
    "mse = mean_squared_error(y_test, y_pred)\n",
    "r2 = r2_score(y_test, y_pred)\n",
    "print(f\"Mean Squared Error: {mse:.2f}\")\n",
    "print(f\"R-squared: {r2:.2f}\")\n",
    "\n",
    "# Make predictions for future years\n",
    "future_sentiments = [0, 1, 2]  # Replace with actual sentiment values for future years\n",
    "future_df = pd.DataFrame({'Sentiment': future_sentiments})\n",
    "future_predictions = knn_reg.predict(future_df)\n",
    "\n",
    "print(\"\\nPredictions for future years:\")\n",
    "for i, prediction in enumerate(future_predictions):\n",
    "    print(f\"Sample {i+1}: Predicted number of hours spent: {prediction:.2f}\")\n"
   ]
  },
  {
   "cell_type": "code",
   "execution_count": null,
   "id": "b30f3c83",
   "metadata": {},
   "outputs": [],
   "source": []
  }
 ],
 "metadata": {
  "kernelspec": {
   "display_name": "Python 3 (ipykernel)",
   "language": "python",
   "name": "python3"
  },
  "language_info": {
   "codemirror_mode": {
    "name": "ipython",
    "version": 3
   },
   "file_extension": ".py",
   "mimetype": "text/x-python",
   "name": "python",
   "nbconvert_exporter": "python",
   "pygments_lexer": "ipython3",
   "version": "3.11.5"
  }
 },
 "nbformat": 4,
 "nbformat_minor": 5
}
